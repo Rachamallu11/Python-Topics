{
 "cells": [
  {
   "cell_type": "code",
   "execution_count": 5,
   "metadata": {},
   "outputs": [
    {
     "name": "stdout",
     "output_type": "stream",
     "text": [
      "{1, 2, 3, 4, 5, 8}\n",
      "{1, 2, 4, 5, 8}\n"
     ]
    }
   ],
   "source": [
    "#basic operations adding and removing\n",
    "\n",
    "set ={1,2,3,4,5}\n",
    "set.add(8)\n",
    "print(set)\n",
    "\n",
    "set.remove(3)\n",
    "print(set)"
   ]
  },
  {
   "cell_type": "code",
   "execution_count": 6,
   "metadata": {},
   "outputs": [],
   "source": [
    "# if you want remove the element which are not present in the set it will give error so we need to use dicard() function \n",
    "\n",
    "set.discard(10)"
   ]
  },
  {
   "cell_type": "code",
   "execution_count": 10,
   "metadata": {},
   "outputs": [
    {
     "name": "stdout",
     "output_type": "stream",
     "text": [
      "4\n",
      "{5, 8}\n"
     ]
    }
   ],
   "source": [
    "#pop\n",
    "\n",
    "pop_Set = set.pop()\n",
    "print(pop_Set)\n",
    "\n",
    "print(set)"
   ]
  },
  {
   "cell_type": "code",
   "execution_count": 11,
   "metadata": {},
   "outputs": [
    {
     "name": "stdout",
     "output_type": "stream",
     "text": [
      "True\n"
     ]
    }
   ],
   "source": [
    "# set membership test\n",
    "\n",
    "s1 = {22,4,3,2,22}\n",
    "print(2 in s1)"
   ]
  },
  {
   "cell_type": "code",
   "execution_count": 15,
   "metadata": {},
   "outputs": [
    {
     "name": "stdout",
     "output_type": "stream",
     "text": [
      "{2, 3, 4, 5, 11, 22}\n",
      "{2, 3, 22}\n",
      "{2, 3, 22}\n"
     ]
    }
   ],
   "source": [
    "# mathematical operations\n",
    "\n",
    "s1 ={22,4,3,2,22}\n",
    "s2 ={2,5,3,11,22}\n",
    "\n",
    "#1.union - it will combine the two sets into one set\n",
    "union_set = s1.union(s2)\n",
    "print(union_set)\n",
    "\n",
    "#2. intersection -  it will print only the common values in the both of the sets\n",
    "\n",
    "inter_set = s1.intersection(s2)\n",
    "print(inter_set)\n",
    "\n",
    "#3. intersectionupdate - it will print only common elements and update the set doing both operations\n",
    "s1.intersection_update(s2)\n",
    "print(s1)\n"
   ]
  },
  {
   "cell_type": "code",
   "execution_count": 17,
   "metadata": {},
   "outputs": [
    {
     "name": "stdout",
     "output_type": "stream",
     "text": [
      "{1, 2, 3}\n"
     ]
    }
   ],
   "source": [
    "#difference\n",
    "s1 = {1,2,3,4,5,6}\n",
    "s2 = {4,5,6,7,8,9}\n",
    "print(s1.difference(s2))"
   ]
  },
  {
   "cell_type": "code",
   "execution_count": null,
   "metadata": {},
   "outputs": [
    {
     "name": "stdout",
     "output_type": "stream",
     "text": [
      "{1, 2, 3, 7, 8, 9}\n"
     ]
    }
   ],
   "source": [
    "#synthetic difference - it will removes the common values from both sets and print in single set\n",
    "print(s1.symmetric_difference(s2))"
   ]
  },
  {
   "cell_type": "code",
   "execution_count": 23,
   "metadata": {},
   "outputs": [
    {
     "name": "stdout",
     "output_type": "stream",
     "text": [
      "False\n",
      "True\n"
     ]
    }
   ],
   "source": [
    "#set methods\n",
    "\n",
    "s1 = {1,2,3,4,5}\n",
    "s2 = {3,4,5}\n",
    "print(s1.issubset(s2))\n",
    "print(s1.issuperset(s2))"
   ]
  },
  {
   "cell_type": "code",
   "execution_count": 3,
   "metadata": {},
   "outputs": [
    {
     "name": "stdout",
     "output_type": "stream",
     "text": [
      "['in', 'this', 'tutorial', 'we', 'are', 'discussing', 'about', 'sets']\n",
      "{'in', 'discussing', 'sets', 'about', 'tutorial', 'we', 'are', 'this'}\n",
      "8\n"
     ]
    }
   ],
   "source": [
    "#counting unique words in sentence\n",
    "\n",
    "text = 'in this tutorial we are discussing about sets'\n",
    "words = text.split()\n",
    "print(words)\n",
    "\n",
    "# now convert the list into set and count\n",
    "\n",
    "unique_word = set(words)\n",
    "print(unique_word)\n",
    "print(len(unique_word))"
   ]
  },
  {
   "cell_type": "code",
   "execution_count": null,
   "metadata": {},
   "outputs": [],
   "source": []
  }
 ],
 "metadata": {
  "kernelspec": {
   "display_name": "Python 3",
   "language": "python",
   "name": "python3"
  },
  "language_info": {
   "codemirror_mode": {
    "name": "ipython",
    "version": 3
   },
   "file_extension": ".py",
   "mimetype": "text/x-python",
   "name": "python",
   "nbconvert_exporter": "python",
   "pygments_lexer": "ipython3",
   "version": "3.10.16"
  }
 },
 "nbformat": 4,
 "nbformat_minor": 2
}
