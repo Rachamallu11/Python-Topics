{
 "cells": [
  {
   "cell_type": "markdown",
   "metadata": {},
   "source": [
    "1.Manage a to do list\n",
    "1.create a todo list to kepp track of list\n",
    "in real world examples we have to do these examples"
   ]
  },
  {
   "cell_type": "code",
   "execution_count": 2,
   "metadata": {},
   "outputs": [
    {
     "name": "stdout",
     "output_type": "stream",
     "text": [
      "don't forget to pay\n",
      "remaining list is:\n",
      "-buy groceries\n",
      "-pay electricity bill\n",
      "-Schedule meeting\n",
      "-Go for run\n"
     ]
    }
   ],
   "source": [
    "to_do_list = ['buy groceries','pay electricity bill','clean house']\n",
    "\n",
    "to_do_list.append('Schedule meeting') \n",
    "to_do_list.append('Go for run') \n",
    "\n",
    "to_do_list.remove('clean house')\n",
    "\n",
    "if 'pay electricity bill' in to_do_list:\n",
    "    print(\"don't forget to pay\")\n",
    "print(\"remaining list is:\")\n",
    "for task in to_do_list:\n",
    "    print(f\"-{task}\")   "
   ]
  },
  {
   "cell_type": "markdown",
   "metadata": {},
   "source": [
    "2.Organising a student list\n",
    "create a list to store and calculate avarage of grades"
   ]
  },
  {
   "cell_type": "code",
   "execution_count": 6,
   "metadata": {},
   "outputs": [
    {
     "name": "stdout",
     "output_type": "stream",
     "text": [
      "the average grade is: 82.0\n",
      "92\n",
      "68\n"
     ]
    }
   ],
   "source": [
    "grades = [85,92,68,75,90]\n",
    "\n",
    "\n",
    "avg_grade = sum(grades)/len(grades)\n",
    "\n",
    "print(f'the average grade is: {avg_grade}')\n",
    "\n",
    "high_grade =  max(grades)\n",
    "min_grade = min(grades)\n",
    "print(f'{high_grade}')\n",
    "print(f'{min_grade}')"
   ]
  },
  {
   "cell_type": "markdown",
   "metadata": {},
   "source": [
    "3.Managing a inventory\n",
    "Use a list to manage inventory items in a store\n",
    "\n"
   ]
  },
  {
   "cell_type": "code",
   "execution_count": 8,
   "metadata": {},
   "outputs": [
    {
     "name": "stdout",
     "output_type": "stream",
     "text": [
      "orange is not in stock\n",
      "remaining items are:\n",
      "-grapes\n",
      "-apples\n",
      "-melon\n",
      "-kiwi\n",
      "-banana\n",
      "-strawberries\n"
     ]
    }
   ],
   "source": [
    "li = ['grapes','apples','melon','kiwi','banana']\n",
    "\n",
    "li.append('strawberries')\n",
    "\n",
    "item = 'orange'\n",
    "\n",
    "if item in li:\n",
    "    print(f'{item} it is in stock')\n",
    "else:\n",
    "    print(f'{item} is not in stock')    \n",
    "\n",
    "print('remaining items are:')\n",
    "for item in li:\n",
    "    print(f'-{item}')    "
   ]
  },
  {
   "cell_type": "markdown",
   "metadata": {},
   "source": [
    "3.Collecting user feedback\n",
    "Use a list to collect and analyse the use feedback"
   ]
  },
  {
   "cell_type": "code",
   "execution_count": 10,
   "metadata": {},
   "outputs": [
    {
     "name": "stdout",
     "output_type": "stream",
     "text": [
      "the positive is feedback is there: 1\n",
      "reamining feedbacks are\n",
      "-it is good\n",
      "-not bad\n",
      "-very bad\n",
      "-nice\n"
     ]
    }
   ],
   "source": [
    "feedback = ['it is good','not bad','very bad','nice']\n",
    "\n",
    "#counting specific feedback\n",
    "\n",
    "grat_feed = sum(1 for comment in feedback if 'great' in comment.lower() or 'good' in comment)\n",
    "print(f'the positive is feedback is there: {grat_feed}')\n",
    "\n",
    "print(f'reamining feedbacks are')\n",
    "for i in feedback:\n",
    "    print(f'-{i}')\n",
    "\n",
    "\n"
   ]
  },
  {
   "cell_type": "code",
   "execution_count": null,
   "metadata": {},
   "outputs": [],
   "source": []
  },
  {
   "cell_type": "code",
   "execution_count": null,
   "metadata": {},
   "outputs": [],
   "source": []
  },
  {
   "cell_type": "code",
   "execution_count": null,
   "metadata": {},
   "outputs": [],
   "source": []
  },
  {
   "cell_type": "code",
   "execution_count": null,
   "metadata": {},
   "outputs": [],
   "source": []
  },
  {
   "cell_type": "code",
   "execution_count": null,
   "metadata": {},
   "outputs": [],
   "source": []
  },
  {
   "cell_type": "code",
   "execution_count": null,
   "metadata": {},
   "outputs": [],
   "source": []
  },
  {
   "cell_type": "code",
   "execution_count": null,
   "metadata": {},
   "outputs": [],
   "source": []
  },
  {
   "cell_type": "code",
   "execution_count": null,
   "metadata": {},
   "outputs": [],
   "source": []
  }
 ],
 "metadata": {
  "kernelspec": {
   "display_name": "Python 3",
   "language": "python",
   "name": "python3"
  },
  "language_info": {
   "codemirror_mode": {
    "name": "ipython",
    "version": 3
   },
   "file_extension": ".py",
   "mimetype": "text/x-python",
   "name": "python",
   "nbconvert_exporter": "python",
   "pygments_lexer": "ipython3",
   "version": "3.10.16"
  }
 },
 "nbformat": 4,
 "nbformat_minor": 2
}
