{
 "cells": [
  {
   "cell_type": "code",
   "execution_count": 1,
   "metadata": {},
   "outputs": [
    {
     "name": "stdout",
     "output_type": "stream",
     "text": [
      "{'name': 'satya', 'age': 24, 'grade': 5}\n",
      "<class 'dict'>\n"
     ]
    }
   ],
   "source": [
    "student = {'name':'satya','age':24,'grade':5}\n",
    "print(student)\n",
    "print(type(student))"
   ]
  },
  {
   "cell_type": "markdown",
   "metadata": {},
   "source": [
    "Single keys always used. "
   ]
  },
  {
   "cell_type": "code",
   "execution_count": null,
   "metadata": {},
   "outputs": [
    {
     "name": "stdout",
     "output_type": "stream",
     "text": [
      "24\n"
     ]
    }
   ],
   "source": [
    "#Accessing dictionary elements\n",
    "#accesing dictionary values - it will print the values by using 'key'\n",
    "\n",
    "student\n",
    "print(student['age'])"
   ]
  },
  {
   "cell_type": "code",
   "execution_count": null,
   "metadata": {},
   "outputs": [
    {
     "name": "stdout",
     "output_type": "stream",
     "text": [
      "24\n",
      "not there\n"
     ]
    }
   ],
   "source": [
    "# Accessing using get() method\n",
    "print(student.get('age'))\n",
    "\n",
    "print(student.get('lastname','not there'))  # if it is there it will print lastname otherwise it will print not there"
   ]
  },
  {
   "cell_type": "code",
   "execution_count": 9,
   "metadata": {},
   "outputs": [
    {
     "data": {
      "text/plain": [
       "{'name': 'satya', 'age': 24, 'address': 'noida'}"
      ]
     },
     "execution_count": 9,
     "metadata": {},
     "output_type": "execute_result"
    }
   ],
   "source": [
    "#modifying dictionaries elements\n",
    "#dictionaries are mutable, so we can add, update and delete \n",
    "\n",
    "student['address'] ='noida'  #adding new value\n",
    "student\n",
    "\n",
    "student['grade'] = 'A'  #updateing\n",
    "student\n",
    "\n",
    "del student['grade']\n",
    "student"
   ]
  },
  {
   "cell_type": "code",
   "execution_count": null,
   "metadata": {},
   "outputs": [
    {
     "name": "stdout",
     "output_type": "stream",
     "text": [
      "dict_keys(['name', 'age', 'address'])\n",
      "dict_values(['satya', 24, 'noida'])\n",
      "dict_items([('name', 'satya'), ('age', 24), ('address', 'noida')])\n"
     ]
    }
   ],
   "source": [
    "#dictionaries methods\n",
    "\n",
    "key = student.keys()  # it will return the keys\n",
    "print(key)\n",
    "\n",
    "values = student.values()  # it will return the values\n",
    "print(values)\n",
    "\n",
    "keyval = student.items()   #it will return the key value pairs and return the in the form of tuples\n",
    "print(keyval)"
   ]
  },
  {
   "cell_type": "code",
   "execution_count": null,
   "metadata": {},
   "outputs": [
    {
     "name": "stdout",
     "output_type": "stream",
     "text": [
      "{'name': 'satya', 'age': 24, 'address': 'noida'}\n",
      "{'name': 'satya', 'age': 24, 'address': 'noida'}\n"
     ]
    }
   ],
   "source": [
    "# Shallow copy - important for projects \n",
    "\n",
    "student\n",
    "\n",
    "student_copy = student\n",
    "print(student)\n",
    "print(student_copy)\n",
    "\n"
   ]
  },
  {
   "cell_type": "code",
   "execution_count": null,
   "metadata": {},
   "outputs": [
    {
     "name": "stdout",
     "output_type": "stream",
     "text": [
      "{'name': 'mounika', 'age': 24, 'address': 'noida'}\n",
      "{'name': 'mounika', 'age': 24, 'address': 'noida'}\n"
     ]
    }
   ],
   "source": [
    "student['name']='mounika'   # here even we are updating the name it is printing the same name in both student and student copy \n",
    "print(student)\n",
    "print(student_copy)"
   ]
  },
  {
   "cell_type": "code",
   "execution_count": null,
   "metadata": {},
   "outputs": [
    {
     "name": "stdout",
     "output_type": "stream",
     "text": [
      "{'name': 'satya mounika', 'age': 24, 'address': 'noida'}\n",
      "{'name': 'mounika', 'age': 24, 'address': 'noida'}\n"
     ]
    }
   ],
   "source": [
    "student_copy1 = student.copy()  #this is shallow copy \n",
    "student['name'] = 'satya mounika'\n",
    "print(student)\n",
    "print(student_copy1)   # here we can see the previous values and updated value"
   ]
  },
  {
   "cell_type": "code",
   "execution_count": 6,
   "metadata": {},
   "outputs": [
    {
     "name": "stdout",
     "output_type": "stream",
     "text": [
      "name\n",
      "age\n",
      "grade\n",
      "satya\n",
      "24\n",
      "5\n",
      "name,satya\n",
      "age,24\n",
      "grade,5\n"
     ]
    }
   ],
   "source": [
    "# Iterating over dictionaries\n",
    "# iterate over a using a loop with dictionaries, key, values\n",
    "student = {'name':'satya','age':24,'grade':5}\n",
    "\n",
    "\n",
    "for keys in student.keys():\n",
    "    print(keys)\n",
    "\n",
    "#values\n",
    "\n",
    "for values in student.values():\n",
    "    print(values)\n",
    "\n",
    "for keys,values in student.items():\n",
    "    print(f\"{keys},{values}\")        \n",
    "\n",
    "\n"
   ]
  },
  {
   "cell_type": "code",
   "execution_count": 5,
   "metadata": {},
   "outputs": [
    {
     "name": "stdout",
     "output_type": "stream",
     "text": [
      "{'student1': {'name': 'satya', 'age': 24}, 'student2': {'name': 'rana', 'age': 30}}\n"
     ]
    }
   ],
   "source": [
    "#Nested Dictionaries\n",
    "\n",
    "students = {'student1':{'name':'satya','age':24},\n",
    "            'student2':{'name':'rana','age':30}}\n",
    "print(students)"
   ]
  },
  {
   "cell_type": "code",
   "execution_count": 7,
   "metadata": {},
   "outputs": [
    {
     "name": "stdout",
     "output_type": "stream",
     "text": [
      "satya\n",
      "30\n"
     ]
    }
   ],
   "source": [
    "#Accessing nested dictionaries\n",
    "\n",
    "print(students['student1']['name'])\n",
    "print(students['student2']['age'])"
   ]
  },
  {
   "cell_type": "code",
   "execution_count": 8,
   "metadata": {},
   "outputs": [
    {
     "data": {
      "text/plain": [
       "dict_items([('student1', {'name': 'satya', 'age': 24}), ('student2', {'name': 'rana', 'age': 30})])"
      ]
     },
     "execution_count": 8,
     "metadata": {},
     "output_type": "execute_result"
    }
   ],
   "source": [
    "students.items()"
   ]
  },
  {
   "cell_type": "code",
   "execution_count": null,
   "metadata": {},
   "outputs": [
    {
     "name": "stdout",
     "output_type": "stream",
     "text": [
      "student1,{'name': 'satya', 'age': 24}\n",
      "name,satya\n",
      "age,24\n",
      "student2,{'name': 'rana', 'age': 30}\n",
      "name,rana\n",
      "age,30\n"
     ]
    }
   ],
   "source": [
    "#Iterating over nested dictionaries\n",
    "#here student_id is student1,student2 these are keys for students\n",
    "#and student_info is name, age of both student1, 2 and these are values of students\n",
    "#here below we are iterating the inside the student_info also it will give the name and age \n",
    "for student_id,student_info in students.items():\n",
    "    print(f\"{student_id},{student_info}\")\n",
    "    for keys,values in student_info.items():\n",
    "        print(f\"{keys},{values}\")"
   ]
  },
  {
   "cell_type": "code",
   "execution_count": null,
   "metadata": {},
   "outputs": [
    {
     "name": "stdout",
     "output_type": "stream",
     "text": [
      "{0: 0, 1: 1, 2: 4, 3: 9, 4: 16}\n"
     ]
    }
   ],
   "source": [
    "#Dictionary comprehension \n",
    "#it will give in the form of dictionary format\n",
    "square = {i:i**2 for i in range(5)}\n",
    "print(square)"
   ]
  },
  {
   "cell_type": "code",
   "execution_count": 13,
   "metadata": {},
   "outputs": [
    {
     "name": "stdout",
     "output_type": "stream",
     "text": [
      "{0: 0, 2: 4, 4: 16, 6: 36, 8: 64, 10: 100, 12: 144, 14: 196, 16: 256, 18: 324, 20: 400}\n"
     ]
    }
   ],
   "source": [
    "#square of even numbers in range of 20\n",
    "\n",
    "squ = {i:i**2 for i in range(21) if i%2==0}\n",
    "print(squ)"
   ]
  },
  {
   "cell_type": "code",
   "execution_count": 3,
   "metadata": {},
   "outputs": [
    {
     "name": "stdout",
     "output_type": "stream",
     "text": [
      "{1: 1, 2: 2, 3: 2, 4: 4}\n"
     ]
    }
   ],
   "source": [
    "#use a dictionary to count the frequency of elements in list\n",
    "\n",
    "num = [1,2,2,3,3,4,4,4,4]\n",
    "frequency = {}\n",
    "\n",
    "for i in num:\n",
    "    if i in frequency:\n",
    "        frequency[i]+=1\n",
    "    else:\n",
    "        frequency[i]=1\n",
    "print(frequency)            "
   ]
  },
  {
   "cell_type": "code",
   "execution_count": null,
   "metadata": {},
   "outputs": [
    {
     "name": "stdout",
     "output_type": "stream",
     "text": [
      "{'a': 1, 'b': 3, 'c': 4}\n"
     ]
    }
   ],
   "source": [
    "#Merge two dictionaries into one\n",
    "#the ** symbol will pairing the two dictionaries\n",
    "dict1 = {'a':1,'b':2}\n",
    "dict2 = {'b':3,'c':4}\n",
    "\n",
    "merge_dict = {**dict1,**dict2}\n",
    "print(merge_dict)"
   ]
  }
 ],
 "metadata": {
  "kernelspec": {
   "display_name": "Python 3",
   "language": "python",
   "name": "python3"
  },
  "language_info": {
   "codemirror_mode": {
    "name": "ipython",
    "version": 3
   },
   "file_extension": ".py",
   "mimetype": "text/x-python",
   "name": "python",
   "nbconvert_exporter": "python",
   "pygments_lexer": "ipython3",
   "version": "3.10.16"
  }
 },
 "nbformat": 4,
 "nbformat_minor": 2
}
